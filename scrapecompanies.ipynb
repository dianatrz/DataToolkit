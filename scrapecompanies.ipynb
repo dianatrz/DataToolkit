import pandas as pd
URL = 'https://top100.seenews.com/rankings/top-100-companies/'
dfs = pd.read_html(URL)
df = dfs[0]


//some solution with groupby industry

//solution with groupby function by headquarters with a count aggregation and you select the top row from df
