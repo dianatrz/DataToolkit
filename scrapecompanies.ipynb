import pandas as pd
URL = 'https://top100.seenews.com/rankings/top-100-companies/'
dfs = pd.read_html(URL)
df = dfs[0]
