import pandas as pd
URL = 'https://www.comprend.com/webranking/webranking-results/2017-2018/global-100-2017-2018/'
dfs = pd.read_html(URL)
df = dfs[0]
